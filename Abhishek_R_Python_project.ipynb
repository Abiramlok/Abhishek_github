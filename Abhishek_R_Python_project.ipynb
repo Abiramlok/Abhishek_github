{
 "cells": [
  {
   "cell_type": "code",
   "execution_count": 1,
   "id": "c67b98a8",
   "metadata": {},
   "outputs": [],
   "source": [
    "import pandas as pd\n",
    "import numpy as np\n",
    "import matplotlib.pyplot as plt\n",
    "import seaborn as sns\n"
   ]
  },
  {
   "cell_type": "code",
   "execution_count": null,
   "id": "22abad9d",
   "metadata": {},
   "outputs": [],
   "source": [
    "#### Reading the file and merging all the given excle sheets."
   ]
  },
  {
   "cell_type": "code",
   "execution_count": 2,
   "id": "71074d23",
   "metadata": {
    "scrolled": false
   },
   "outputs": [],
   "source": [
    "df=pd.concat(pd.read_excel('imus+(2).xlsx',sheet_name=None),ignore_index=True)"
   ]
  },
  {
   "cell_type": "code",
   "execution_count": null,
   "id": "3d73ceca",
   "metadata": {},
   "outputs": [],
   "source": [
    "#### basic data exploration"
   ]
  },
  {
   "cell_type": "code",
   "execution_count": 3,
   "id": "7d831826",
   "metadata": {},
   "outputs": [
    {
     "data": {
      "text/html": [
       "<div>\n",
       "<style scoped>\n",
       "    .dataframe tbody tr th:only-of-type {\n",
       "        vertical-align: middle;\n",
       "    }\n",
       "\n",
       "    .dataframe tbody tr th {\n",
       "        vertical-align: top;\n",
       "    }\n",
       "\n",
       "    .dataframe thead th {\n",
       "        text-align: right;\n",
       "    }\n",
       "</style>\n",
       "<table border=\"1\" class=\"dataframe\">\n",
       "  <thead>\n",
       "    <tr style=\"text-align: right;\">\n",
       "      <th></th>\n",
       "      <th>category</th>\n",
       "      <th>manufacturer</th>\n",
       "      <th>part_number</th>\n",
       "      <th>sku</th>\n",
       "      <th>alt_sku</th>\n",
       "      <th>description</th>\n",
       "      <th>status</th>\n",
       "      <th>qty</th>\n",
       "      <th>price</th>\n",
       "      <th>sku_create_date</th>\n",
       "    </tr>\n",
       "  </thead>\n",
       "  <tbody>\n",
       "    <tr>\n",
       "      <th>0</th>\n",
       "      <td>1539</td>\n",
       "      <td>MS-OPEN VALUE SUBSCRIPTION</td>\n",
       "      <td>021-09108</td>\n",
       "      <td>BA0011</td>\n",
       "      <td>NaN</td>\n",
       "      <td>1YR OFFICESTD ALNG LICSAPK OLV, D AP</td>\n",
       "      <td>No Stock</td>\n",
       "      <td>0</td>\n",
       "      <td>143.58</td>\n",
       "      <td>2020-08-17</td>\n",
       "    </tr>\n",
       "    <tr>\n",
       "      <th>1</th>\n",
       "      <td>1539</td>\n",
       "      <td>MS-OPEN VALUE SUBSCRIPTION</td>\n",
       "      <td>059-07014</td>\n",
       "      <td>BA0025</td>\n",
       "      <td>NaN</td>\n",
       "      <td>1YR WORD ALNG LICSAPK OLV D AP,</td>\n",
       "      <td>No Stock</td>\n",
       "      <td>0</td>\n",
       "      <td>56.09</td>\n",
       "      <td>2020-08-17</td>\n",
       "    </tr>\n",
       "    <tr>\n",
       "      <th>2</th>\n",
       "      <td>1539</td>\n",
       "      <td>MS-OPEN VALUE SUBSCRIPTION</td>\n",
       "      <td>065-06444</td>\n",
       "      <td>BA0039</td>\n",
       "      <td>NaN</td>\n",
       "      <td>1YR EXCEL ALNG LICSAPK OLV D AP,</td>\n",
       "      <td>No Stock</td>\n",
       "      <td>0</td>\n",
       "      <td>56.09</td>\n",
       "      <td>2020-08-17</td>\n",
       "    </tr>\n",
       "    <tr>\n",
       "      <th>3</th>\n",
       "      <td>1539</td>\n",
       "      <td>MS-OPEN VALUE SUBSCRIPTION</td>\n",
       "      <td>076-04355</td>\n",
       "      <td>BA0067</td>\n",
       "      <td>NaN</td>\n",
       "      <td>1YR PRJCT ALNG LICSAPK OLV D AP,</td>\n",
       "      <td>No Stock</td>\n",
       "      <td>0</td>\n",
       "      <td>217.60</td>\n",
       "      <td>2020-08-17</td>\n",
       "    </tr>\n",
       "    <tr>\n",
       "      <th>4</th>\n",
       "      <td>1582</td>\n",
       "      <td>MS-OPEN VALUE SUBSCRIPTION</td>\n",
       "      <td>077-05318</td>\n",
       "      <td>BA0080</td>\n",
       "      <td>NaN</td>\n",
       "      <td>1YR ACCESS ALNG LICSAPK OLV D, AP</td>\n",
       "      <td>No Stock</td>\n",
       "      <td>0</td>\n",
       "      <td>56.09</td>\n",
       "      <td>2020-08-17</td>\n",
       "    </tr>\n",
       "  </tbody>\n",
       "</table>\n",
       "</div>"
      ],
      "text/plain": [
       "   category                manufacturer part_number     sku alt_sku  \\\n",
       "0      1539  MS-OPEN VALUE SUBSCRIPTION   021-09108  BA0011     NaN   \n",
       "1      1539  MS-OPEN VALUE SUBSCRIPTION   059-07014  BA0025     NaN   \n",
       "2      1539  MS-OPEN VALUE SUBSCRIPTION   065-06444  BA0039     NaN   \n",
       "3      1539  MS-OPEN VALUE SUBSCRIPTION   076-04355  BA0067     NaN   \n",
       "4      1582  MS-OPEN VALUE SUBSCRIPTION   077-05318  BA0080     NaN   \n",
       "\n",
       "                            description    status  qty   price sku_create_date  \n",
       "0  1YR OFFICESTD ALNG LICSAPK OLV, D AP  No Stock    0  143.58      2020-08-17  \n",
       "1       1YR WORD ALNG LICSAPK OLV D AP,  No Stock    0   56.09      2020-08-17  \n",
       "2      1YR EXCEL ALNG LICSAPK OLV D AP,  No Stock    0   56.09      2020-08-17  \n",
       "3      1YR PRJCT ALNG LICSAPK OLV D AP,  No Stock    0  217.60      2020-08-17  \n",
       "4     1YR ACCESS ALNG LICSAPK OLV D, AP  No Stock    0   56.09      2020-08-17  "
      ]
     },
     "execution_count": 3,
     "metadata": {},
     "output_type": "execute_result"
    }
   ],
   "source": [
    "df.head(5) "
   ]
  },
  {
   "cell_type": "code",
   "execution_count": 4,
   "id": "1b354e15",
   "metadata": {
    "scrolled": true
   },
   "outputs": [
    {
     "name": "stdout",
     "output_type": "stream",
     "text": [
      "<class 'pandas.core.frame.DataFrame'>\n",
      "RangeIndex: 2627926 entries, 0 to 2627925\n",
      "Data columns (total 10 columns):\n",
      " #   Column           Dtype         \n",
      "---  ------           -----         \n",
      " 0   category         int64         \n",
      " 1   manufacturer     object        \n",
      " 2   part_number      object        \n",
      " 3   sku              object        \n",
      " 4   alt_sku          object        \n",
      " 5   description      object        \n",
      " 6   status           object        \n",
      " 7   qty              int64         \n",
      " 8   price            float64       \n",
      " 9   sku_create_date  datetime64[ns]\n",
      "dtypes: datetime64[ns](1), float64(1), int64(2), object(6)\n",
      "memory usage: 200.5+ MB\n"
     ]
    }
   ],
   "source": [
    "df.info()"
   ]
  },
  {
   "cell_type": "code",
   "execution_count": 6,
   "id": "d6b1f1b5",
   "metadata": {},
   "outputs": [
    {
     "data": {
      "text/plain": [
       "category                 0\n",
       "manufacturer             0\n",
       "part_number              0\n",
       "sku                      0\n",
       "alt_sku            2613442\n",
       "description              0\n",
       "status                   0\n",
       "qty                      0\n",
       "price                    0\n",
       "sku_create_date          0\n",
       "dtype: int64"
      ]
     },
     "execution_count": 6,
     "metadata": {},
     "output_type": "execute_result"
    }
   ],
   "source": [
    "df.isnull().sum()    #### calculating the total null values "
   ]
  },
  {
   "cell_type": "code",
   "execution_count": null,
   "id": "fd4c2ac8",
   "metadata": {},
   "outputs": [],
   "source": [
    "#### In the given data set there are 10 columns and 2627926 records.\n",
    "#### out of 10 columns only alt_sku column has 2613442 null values."
   ]
  },
  {
   "cell_type": "code",
   "execution_count": null,
   "id": "8429eb67",
   "metadata": {},
   "outputs": [],
   "source": [
    "#### dividing the data into two categories based on  the satus of stcok avilability."
   ]
  },
  {
   "cell_type": "code",
   "execution_count": 3,
   "id": "294d2564",
   "metadata": {},
   "outputs": [],
   "source": [
    "df_in_stock=df[df['status']=='In Stock']  ### In stock data"
   ]
  },
  {
   "cell_type": "code",
   "execution_count": 4,
   "id": "024eb2a6",
   "metadata": {},
   "outputs": [],
   "source": [
    "df_No_stock=df[df['status']=='No Stock']  ### No stock data"
   ]
  },
  {
   "cell_type": "code",
   "execution_count": 7,
   "id": "afa98946",
   "metadata": {},
   "outputs": [
    {
     "name": "stdout",
     "output_type": "stream",
     "text": [
      "<class 'pandas.core.frame.DataFrame'>\n",
      "Int64Index: 713788 entries, 253 to 2627925\n",
      "Data columns (total 10 columns):\n",
      " #   Column           Non-Null Count   Dtype         \n",
      "---  ------           --------------   -----         \n",
      " 0   category         713788 non-null  int64         \n",
      " 1   manufacturer     713788 non-null  object        \n",
      " 2   part_number      713788 non-null  object        \n",
      " 3   sku              713788 non-null  object        \n",
      " 4   alt_sku          8242 non-null    object        \n",
      " 5   description      713788 non-null  object        \n",
      " 6   status           713788 non-null  object        \n",
      " 7   qty              713788 non-null  int64         \n",
      " 8   price            713788 non-null  float64       \n",
      " 9   sku_create_date  713788 non-null  datetime64[ns]\n",
      "dtypes: datetime64[ns](1), float64(1), int64(2), object(6)\n",
      "memory usage: 59.9+ MB\n"
     ]
    }
   ],
   "source": [
    "df_in_stock.info()"
   ]
  },
  {
   "cell_type": "code",
   "execution_count": 8,
   "id": "4eca7c91",
   "metadata": {},
   "outputs": [
    {
     "name": "stdout",
     "output_type": "stream",
     "text": [
      "<class 'pandas.core.frame.DataFrame'>\n",
      "Int64Index: 1914138 entries, 0 to 2627857\n",
      "Data columns (total 10 columns):\n",
      " #   Column           Dtype         \n",
      "---  ------           -----         \n",
      " 0   category         int64         \n",
      " 1   manufacturer     object        \n",
      " 2   part_number      object        \n",
      " 3   sku              object        \n",
      " 4   alt_sku          object        \n",
      " 5   description      object        \n",
      " 6   status           object        \n",
      " 7   qty              int64         \n",
      " 8   price            float64       \n",
      " 9   sku_create_date  datetime64[ns]\n",
      "dtypes: datetime64[ns](1), float64(1), int64(2), object(6)\n",
      "memory usage: 160.6+ MB\n"
     ]
    }
   ],
   "source": [
    "df_No_stock.info()"
   ]
  },
  {
   "cell_type": "code",
   "execution_count": 5,
   "id": "eaa6fa25",
   "metadata": {},
   "outputs": [],
   "source": [
    "df1=df_in_stock\n",
    "df2=df_No_stock"
   ]
  },
  {
   "cell_type": "code",
   "execution_count": 7,
   "id": "e835d5c2",
   "metadata": {},
   "outputs": [
    {
     "data": {
      "text/plain": [
       "2364017           DELL CSG SERVICE WARRANTIES\n",
       "852992                                    TMS\n",
       "1698155                              CONFIG 6\n",
       "785899                         MICROSOFT- ESD\n",
       "838410                    DELL ESG WARRANTIES\n",
       "1335010           IM CHOICE ADVANTAGE - GOVED\n",
       "1498076                  TEST VENDOR NUMBER 6\n",
       "1363496    IM CHOICE ADVANTAGE - TECH SUPPORT\n",
       "1352510                         IMCE SERVICES\n",
       "459754          HP INC. - SB DESKTOP DISPLAYS\n",
       "Name: manufacturer, dtype: object"
      ]
     },
     "execution_count": 7,
     "metadata": {},
     "output_type": "execute_result"
    }
   ],
   "source": [
    "### Top manufacturers with highest quantity\n",
    "\n",
    "df_qty =df1.sort_values('qty',ascending=False)['manufacturer'].drop_duplicates().head(10)\n",
    "df_qty\n",
    "    "
   ]
  },
  {
   "cell_type": "code",
   "execution_count": 7,
   "id": "87c380f5",
   "metadata": {},
   "outputs": [
    {
     "data": {
      "text/plain": [
       "1199874             HPE - SWITCHING\n",
       "2571702            HPE - NIMBLE BTO\n",
       "1203979         HPE - ARUBA INSTANT\n",
       "1688357                PULSE SECURE\n",
       "1017049       MELLANOX TECHNOLOGIES\n",
       "1248995             CISCO  HW VIDEO\n",
       "493956          FLUKE NETWORKS CORE\n",
       "1201276            NETALLY HH TOOLS\n",
       "720993            HPE - TOP OF RACK\n",
       "626392     SONICWALL - NSA HARDWARE\n",
       "Name: manufacturer, dtype: object"
      ]
     },
     "execution_count": 7,
     "metadata": {},
     "output_type": "execute_result"
    }
   ],
   "source": [
    "### Top manufacturers with  highest price\n",
    "\n",
    "df_price =df1.sort_values('price',ascending=False)['manufacturer'].drop_duplicates().head(10)\n",
    "df_price\n"
   ]
  },
  {
   "cell_type": "code",
   "execution_count": 6,
   "id": "de9aa504",
   "metadata": {
    "scrolled": true
   },
   "outputs": [
    {
     "name": "stderr",
     "output_type": "stream",
     "text": [
      "C:\\Users\\LOKESH\\AppData\\Local\\Temp/ipykernel_4664/3493927230.py:2: SettingWithCopyWarning: \n",
      "A value is trying to be set on a copy of a slice from a DataFrame.\n",
      "Try using .loc[row_indexer,col_indexer] = value instead\n",
      "\n",
      "See the caveats in the documentation: https://pandas.pydata.org/pandas-docs/stable/user_guide/indexing.html#returning-a-view-versus-a-copy\n",
      "  df1['revenue']= df1['qty'] * df1['price']  ### since cost is not given we are considering gross revenue\n"
     ]
    }
   ],
   "source": [
    "### most profitable products \n",
    "df1['revenue']= df1['qty'] * df1['price']  ### since cost is not given we are considering gross revenue\n"
   ]
  },
  {
   "cell_type": "code",
   "execution_count": 11,
   "id": "d0e7fd51",
   "metadata": {},
   "outputs": [
    {
     "data": {
      "text/plain": [
       "description\n",
       "3YR NBD TO 5YR PROSPT 4H,                          42358763.70\n",
       "5YR PROSUPPORT PLUS,                               38003399.28\n",
       "FED ADVANTAGE CONTRACT SUPPORT-, STARTING LEVEL    25022497.50\n",
       "Name: revenue, dtype: float64"
      ]
     },
     "execution_count": 11,
     "metadata": {},
     "output_type": "execute_result"
    }
   ],
   "source": [
    "max_profit=df1.groupby('description')['revenue'].max().nlargest(3)  ###top 3 profitable products.\n",
    "max_profit\n"
   ]
  },
  {
   "cell_type": "code",
   "execution_count": 20,
   "id": "69aa6528",
   "metadata": {},
   "outputs": [
    {
     "data": {
      "text/plain": [
       "2264912    THINKSYSTEM SR250 E-2136 3.3G, 12MB 8GB\n",
       "Name: description, dtype: object"
      ]
     },
     "execution_count": 20,
     "metadata": {},
     "output_type": "execute_result"
    }
   ],
   "source": [
    "#### creating new coloumn to see the price increase and decrease\n",
    "df1=df1.sort_values('sku_create_date')\n",
    "df1['price_change']=df1.groupby('description').price.diff().fillna(0)\n",
    "price_increase=df1[df1['price_change']>0.0].sort_values(by='price_change',ascending=False).head(1)\n",
    "price_increase['description']\n",
    "                                            "
   ]
  },
  {
   "cell_type": "code",
   "execution_count": 21,
   "id": "f5a144af",
   "metadata": {},
   "outputs": [
    {
     "data": {
      "text/plain": [
       "2540565    5S LCD 1000VA TOWER 120V,\n",
       "Name: description, dtype: object"
      ]
     },
     "execution_count": 21,
     "metadata": {},
     "output_type": "execute_result"
    }
   ],
   "source": [
    "##### decrease in price\n",
    "price_decrease=df1[df1['price_change']<0.0].sort_values(by='price_change',ascending=False).head(1)\n",
    "price_decrease['description']"
   ]
  },
  {
   "cell_type": "code",
   "execution_count": 47,
   "id": "44478901",
   "metadata": {},
   "outputs": [
    {
     "data": {
      "text/plain": [
       "category\n",
       "521    69729.03\n",
       "Name: price, dtype: float64"
      ]
     },
     "execution_count": 47,
     "metadata": {},
     "output_type": "execute_result"
    }
   ],
   "source": [
    "##### Top category with price\n",
    "top_cat_p=df1.groupby('category')['price'].max().nlargest(1)\n",
    "top_cat_p\n"
   ]
  },
  {
   "cell_type": "code",
   "execution_count": 48,
   "id": "9f1b66b0",
   "metadata": {},
   "outputs": [
    {
     "data": {
      "text/plain": [
       "category\n",
       "1221    60063\n",
       "Name: qty, dtype: int64"
      ]
     },
     "execution_count": 48,
     "metadata": {},
     "output_type": "execute_result"
    }
   ],
   "source": [
    "#### top category with quantity\n",
    "top_cat_q=df1.groupby('category')['qty'].max().nlargest(1)\n",
    "top_cat_q"
   ]
  },
  {
   "cell_type": "code",
   "execution_count": 46,
   "id": "7cfd86d2",
   "metadata": {},
   "outputs": [
    {
     "data": {
      "text/plain": [
       "part_number\n",
       "0-00496            2020-08-24\n",
       "0-00498            2020-08-17\n",
       "003-000884-01-OE   2020-08-24\n",
       "00385              2020-08-24\n",
       "00388              2020-08-24\n",
       "00392              2020-08-24\n",
       "00394              2020-08-28\n",
       "00397              2020-08-24\n",
       "00398              2020-08-24\n",
       "00401              2020-08-27\n",
       "Name: sku_create_date, dtype: datetime64[ns]"
      ]
     },
     "execution_count": 46,
     "metadata": {},
     "output_type": "execute_result"
    }
   ],
   "source": [
    "#### since in the given data set only 10 days data are given so we are considering the quantity\n",
    "df_age=df1.sort_values('qty',ascending=False).groupby('part_number')['sku_create_date'].max()\n",
    "df_age.head(10)\n"
   ]
  },
  {
   "cell_type": "code",
   "execution_count": null,
   "id": "185ac0f8",
   "metadata": {},
   "outputs": [],
   "source": [
    "#####  To decrease product aging proper EOQ (economic order quantity) inventory model should be followed.\n",
    "#####  By regulating the price i.e offering more discounts."
   ]
  },
  {
   "cell_type": "code",
   "execution_count": 50,
   "id": "50b9f459",
   "metadata": {},
   "outputs": [
    {
     "data": {
      "text/plain": [
       "0                 MS-OPEN VALUE SUBSCRIPTION\n",
       "1730672               CISCO - SV DIRECT SHIP\n",
       "1730684           CISCO - CISCO CCW SERVICES\n",
       "1730682     CISCO - TAKEOVER ENTERPRISE SKUS\n",
       "1730657    INNOVATION FIRST / RACK SOLUTIONS\n",
       "1730656                             FELLOWES\n",
       "1730490                  PEERLESS INDUSTRIES\n",
       "1730491                 JUNIPER PAR SERVICES\n",
       "1730492                                  AMT\n",
       "1730635                        MSI - SYSTEMS\n",
       "Name: manufacturer, dtype: object"
      ]
     },
     "execution_count": 50,
     "metadata": {},
     "output_type": "execute_result"
    }
   ],
   "source": [
    "### not in stock segment\n",
    "### Top manufacturers with highest quantity\n",
    "df_nqty =df2.sort_values('qty',ascending=False)['manufacturer'].drop_duplicates().head(10)\n",
    "df_nqty\n"
   ]
  },
  {
   "cell_type": "code",
   "execution_count": 51,
   "id": "73212165",
   "metadata": {},
   "outputs": [
    {
     "data": {
      "text/plain": [
       "1046052                             ALTNET\n",
       "973610                JUNIPER ROW SERVICES\n",
       "2261823         JUNIPER ENTERPRISE ROUTING\n",
       "1653726             CISCO - CCW MULTI YEAR\n",
       "971703         HPE - ENTERPRISE NETWORKING\n",
       "985579                       IGEL SOFTWARE\n",
       "1622918          LENOVO DCG SERVER OPTIONS\n",
       "1691227    SECURE CHANNELS INC DIRECT SHIP\n",
       "804208                        PLANAR DVLED\n",
       "2106837               HPE - SERVER OPTIONS\n",
       "Name: manufacturer, dtype: object"
      ]
     },
     "execution_count": 51,
     "metadata": {},
     "output_type": "execute_result"
    }
   ],
   "source": [
    "### Top manufacturers with  highest price\n",
    "\n",
    "df_nprice =df2.sort_values('price',ascending=False)['manufacturer'].drop_duplicates().head(10)\n",
    "df_nprice\n"
   ]
  },
  {
   "cell_type": "code",
   "execution_count": 54,
   "id": "b7d33565",
   "metadata": {},
   "outputs": [
    {
     "data": {
      "text/plain": [
       "description\n",
       "ALTNET TPM UP TO 240000000 USD, LIST MNT UPTO 240000000 USDOEM LIST    84974533.10\n",
       "ALTNET TPM UP TO 80000000 USD, LIST MNT UPTO 80000000 USD OEM LIST     28324844.37\n",
       "ROW 5YR SWA SUP FOR, JCE-1000GBPS                                      10449000.00\n",
       "Name: price, dtype: float64"
      ]
     },
     "execution_count": 54,
     "metadata": {},
     "output_type": "execute_result"
    }
   ],
   "source": [
    "##### since quantity is 0 we are considering products having highest price is considerd as most profitable products.\n",
    "max_nprofit=df2.groupby('description')['price'].max().nlargest(3)  ###top 3 profitable products.\n",
    "max_nprofit\n"
   ]
  },
  {
   "cell_type": "code",
   "execution_count": 55,
   "id": "59f2113b",
   "metadata": {},
   "outputs": [
    {
     "data": {
      "text/plain": [
       "1653734    CCW ONLY SWSS UPG 3YR DISTI SO=, CSC IA CLD 3....\n",
       "Name: description, dtype: object"
      ]
     },
     "execution_count": 55,
     "metadata": {},
     "output_type": "execute_result"
    }
   ],
   "source": [
    "#### creating new coloumn to see the price increase and decrease\n",
    "df2=df2.sort_values('sku_create_date')\n",
    "df2['price_change']=df2.groupby('description').price.diff().fillna(0)\n",
    "price_increase=df2[df2['price_change']>0.0].sort_values(by='price_change',ascending=False).head(1)\n",
    "price_increase['description']"
   ]
  },
  {
   "cell_type": "code",
   "execution_count": 56,
   "id": "04783271",
   "metadata": {},
   "outputs": [
    {
     "data": {
      "text/plain": [
       "2373085    CCW 3YR SNTC NBD 8X5 CATALYST, 9400 SERIES 10S...\n",
       "Name: description, dtype: object"
      ]
     },
     "execution_count": 56,
     "metadata": {},
     "output_type": "execute_result"
    }
   ],
   "source": [
    "##### decrease in price\n",
    "price_decrease=df2[df2['price_change']<0.0].sort_values(by='price_change',ascending=False).head(1)\n",
    "price_decrease['description']"
   ]
  },
  {
   "cell_type": "code",
   "execution_count": null,
   "id": "461a1c58",
   "metadata": {},
   "outputs": [],
   "source": []
  }
 ],
 "metadata": {
  "kernelspec": {
   "display_name": "Python 3 (ipykernel)",
   "language": "python",
   "name": "python3"
  },
  "language_info": {
   "codemirror_mode": {
    "name": "ipython",
    "version": 3
   },
   "file_extension": ".py",
   "mimetype": "text/x-python",
   "name": "python",
   "nbconvert_exporter": "python",
   "pygments_lexer": "ipython3",
   "version": "3.9.7"
  }
 },
 "nbformat": 4,
 "nbformat_minor": 5
}
